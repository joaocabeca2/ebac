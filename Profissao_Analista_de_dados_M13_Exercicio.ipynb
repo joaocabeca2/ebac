{
  "nbformat": 4,
  "nbformat_minor": 0,
  "metadata": {
    "colab": {
      "provenance": [],
      "include_colab_link": true
    },
    "kernelspec": {
      "name": "python3",
      "display_name": "Python 3"
    }
  },
  "cells": [
    {
      "cell_type": "markdown",
      "metadata": {
        "id": "view-in-github",
        "colab_type": "text"
      },
      "source": [
        "<a href=\"https://colab.research.google.com/github/joaocabeca2/ebac/blob/main/Profissao_Analista_de_dados_M13_Exercicio.ipynb\" target=\"_parent\"><img src=\"https://colab.research.google.com/assets/colab-badge.svg\" alt=\"Open In Colab\"/></a>"
      ]
    },
    {
      "cell_type": "markdown",
      "metadata": {
        "id": "KJqp9AANOCtf"
      },
      "source": [
        "<img src=\"https://raw.githubusercontent.com/andre-marcos-perez/ebac-course-utils/main/media/logo/newebac_logo_black_half.png\" alt=\"ebac-logo\">\n",
        "\n",
        "---\n",
        "\n",
        "# **Módulo** | Análise de Dados: Data Wrangling II\n",
        "Caderno de **Exercícios**<br>\n",
        "Professor [André Perez](https://www.linkedin.com/in/andremarcosperez/)\n",
        "\n",
        "---"
      ]
    },
    {
      "cell_type": "markdown",
      "metadata": {
        "id": "d9jDtUbDOE1-"
      },
      "source": [
        "# **Tópicos**\n",
        "\n",
        "<ol type=\"1\">\n",
        "  <li>Agregação e Ordenação;</li>\n",
        "  <li>Combinação;</li>\n",
        "  <li>Técnicas Avançadas.</li>\n",
        "</ol>"
      ]
    },
    {
      "cell_type": "markdown",
      "metadata": {
        "id": "SmoHgt-lwkpD"
      },
      "source": [
        "---"
      ]
    },
    {
      "cell_type": "markdown",
      "metadata": {
        "id": "GABI6OW8OfQ2"
      },
      "source": [
        "# **Exercícios**"
      ]
    },
    {
      "cell_type": "markdown",
      "metadata": {
        "id": "45DbYPgFhuR7"
      },
      "source": [
        "Neste exercícios, vamos trabalhar com dados geográficos, demográficos e econômicos do Brasil. Vamos manipular e combinar dados de duas frentes distintas para poder responder perguntas de negócios."
      ]
    },
    {
      "cell_type": "markdown",
      "metadata": {
        "id": "GWgNoJN8DHyY"
      },
      "source": [
        "## 1\\. Data Wrangling"
      ]
    },
    {
      "cell_type": "markdown",
      "metadata": {
        "id": "E30KnCdKRdYl"
      },
      "source": [
        "### **1.1. Estados**"
      ]
    },
    {
      "cell_type": "markdown",
      "metadata": {
        "id": "w2q1apyNYHbu"
      },
      "source": [
        "O arquivo `estados-bruto.xml` contém informações sobre estados (nome, sigla e região). **Carregue-o na máquina virtual do Google Colab**. Um arquivo do tipo XML é similar a um arquivo do tipo HTML, exemplo do estado do Acre:"
      ]
    },
    {
      "cell_type": "markdown",
      "metadata": {
        "id": "GzjE2aEyYW5A"
      },
      "source": [
        "```xml\n",
        "<ESTADO>\n",
        "  <ID>1</ID>\n",
        "  <NOME>ACRE</NOME>\n",
        "  <IDCAPITAL>16</IDCAPITAL>\n",
        "  <SIGLA>AC</SIGLA>\n",
        "  <REGIAO>NORTE</REGIAO>\n",
        "</ESTADO>\n",
        "```"
      ]
    },
    {
      "cell_type": "markdown",
      "metadata": {
        "id": "7Mtk7Dd9UHqg"
      },
      "source": [
        "Utilize o pacote Python `beautifulsoup4` para extrair os dados do arquivo `estados-bruto.xml` providenciado. Salve os dados extraidos no arquivo `estados-limpo.csv` separado por `;`. Exemplo das três primeiras linhas mais o cabeçalho:\n",
        "\n",
        "```\n",
        "estado;sigla;regiao\n",
        "ACRE;AC;NORTE\n",
        "ALAGOAS;AL;NORDESTE\n",
        "AMAPA;AP;NORTE\n",
        "```\n",
        "\n",
        "**Dica**: Utilize o parser de xml chamado `lxml` do `beautifulsoup4`."
      ]
    },
    {
      "cell_type": "code",
      "metadata": {
        "id": "kz0ZyYI0Sg6P"
      },
      "source": [
        "# lendo o arquivo xml e armazenando os dados nome,sigla e regiao em listas\n",
        "from bs4 import BeautifulSoup\n",
        "\n",
        "with open(file='estados-bruto.xml',mode='r',encoding='utf8') as arq:\n",
        "    fonte = BeautifulSoup(arq, features='xml')\n",
        "    estados = list(map(lambda estado: estado.get_text(),fonte.find_all('NOME')))\n",
        "    siglas = list(map(lambda sigla: sigla.get_text(),fonte.find_all('SIGLA')))\n",
        "    regioes = list(map(lambda regiao: regiao.get_text(),fonte.find_all('REGIAO')))\n"
      ],
      "execution_count": 1,
      "outputs": []
    },
    {
      "cell_type": "code",
      "source": [
        "#criar e transferir os dados armazenados nas listas em um arquivo csv\n",
        "import csv\n",
        "\n",
        "with open(file='./estados-limpo.csv',mode='w') as csvfile:\n",
        "    csvfile = csv.writer(csvfile,delimiter=';')\n",
        "    csvfile.writerow(['estado','sigla','regiao'])\n",
        "    for x in range(len(estados)):\n",
        "        csvfile.writerow([estados[x],siglas[x],regioes[x]])"
      ],
      "metadata": {
        "id": "_YebVrjrrVXp"
      },
      "execution_count": 2,
      "outputs": []
    },
    {
      "cell_type": "code",
      "source": [
        "print(estados)\n",
        "print(siglas)\n",
        "print(regioes)"
      ],
      "metadata": {
        "colab": {
          "base_uri": "https://localhost:8080/"
        },
        "id": "O-iPTOmssgTX",
        "outputId": "63a94092-6abb-43be-b4ba-8dd12d2ed706"
      },
      "execution_count": 3,
      "outputs": [
        {
          "output_type": "stream",
          "name": "stdout",
          "text": [
            "['ACRE', 'ALAGOAS', 'AMAPA', 'AMAZONAS', 'BAHIA', 'CEARA', 'DISTRITO FEDERAL', 'ESPIRITO SANTO', 'GOIAS', 'MARANHAO', 'MATO GROSSO', 'MATO GROSSO DO SUL', 'PARA', 'PARAIBA', 'PARANA', 'PERNAMBUCO', 'PIAUI', 'RIO DE JANEIRO', 'RIO GRANDE DO NORTE', 'RIO GRANDE DO SUL', 'RONDONIA', 'RORAIMA', 'SANTA CATARINA', 'SAO PAULO', 'SERGIPE', 'TOCANTINS', 'MINAS GERAIS']\n",
            "['AC', 'AL', 'AP', 'AM', 'BA', 'CE', 'DF', 'ES', 'GO', 'MA', 'MT', 'MS', 'PA', 'PB', 'PR', 'PE', 'PI', 'RJ', 'RN', 'RS', 'RO', 'RR', 'SC', 'SP', 'SE', 'TO', 'MG']\n",
            "['NORTE', 'NORDESTE', 'NORTE', 'NORTE', 'NORDESTE', 'NORDESTE', 'CENTRO-OESTE', 'SUDESTE', 'CENTRO-OESTE', 'NORDESTE', 'CENTRO-OESTE', 'CENTRO-OESTE', 'NORTE', 'NORDESTE', 'SUL', 'NORDESTE', 'NORDESTE', 'SUDESTE', 'NORDESTE', 'SUL', 'NORTE', 'NORTE', 'SUL', 'SUDESTE', 'NORDESTE', 'NORTE', 'SUDESTE']\n"
          ]
        }
      ]
    },
    {
      "cell_type": "markdown",
      "metadata": {
        "id": "Fq0xqYYSYq92"
      },
      "source": [
        "### **1.2. Cidades**"
      ]
    },
    {
      "cell_type": "markdown",
      "metadata": {
        "id": "eWRbjhOQYq93"
      },
      "source": [
        "O arquivo `cidades-bruto.csv` contém informações demográficas e socioeconomicas das cidades do Brasil. **Carregue-o na máquina virtual do Google Colab**. Utilize o pacote Python `pandas` para extrair os dados do arquivo `cidades-bruto.xml` providenciado. Seguindo as seguintes especificações:"
      ]
    },
    {
      "cell_type": "markdown",
      "metadata": {
        "id": "76zW8sMsbhEu"
      },
      "source": [
        "1. Apenas dados do censo de 2010;\n",
        "1. Apenas as colunas UF, Nome, PIB, Pop_est_2009 e PIB_percapita."
      ]
    },
    {
      "cell_type": "markdown",
      "metadata": {
        "id": "auiIxlw-blp8"
      },
      "source": [
        "Salve os dados extraidos no arquivo `cidades-limpo.csv` separado por `;`. Exemplo das três primeiras linhas mais o cabeçalho:\n",
        "\n",
        "```\n",
        "estado;cidade;populacao;pib;pib_percapita\n",
        "BAHIA;TREMEDAL;18433;57883.9921875;3140.23999023\n",
        "RIO GRANDE DO SUL;TURUÇU;4000;45723875;11430.96972656\n",
        "ESPIRITO SANTO;VITÓRIA;320156;19782628;61790.58984375\n",
        "```"
      ]
    },
    {
      "cell_type": "code",
      "metadata": {
        "id": "nBmWOkvzYq94",
        "colab": {
          "base_uri": "https://localhost:8080/",
          "height": 423
        },
        "outputId": "1c39ae26-23c4-4705-ae24-60f8382126b0"
      },
      "source": [
        "# ler o arquivo cidades-bruto.csv\n",
        "\n",
        "import pandas as pd\n",
        "\n",
        "dados = pd.read_csv('cidades-bruto.csv',encoding='utf8',on_bad_lines='skip')\n",
        "dados.head()"
      ],
      "execution_count": 56,
      "outputs": [
        {
          "output_type": "execute_result",
          "data": {
            "text/plain": [
              "                                               FID   gid                 UF  \\\n",
              "0  vw_pib_percapita.fid-4514e25a_17aaa325034_-258f   215              BAHIA   \n",
              "1  vw_pib_percapita.fid-4514e25a_17aaa325034_-258e   306  RIO GRANDE DO SUL   \n",
              "2  vw_pib_percapita.fid-4514e25a_17aaa325034_-258d   900     ESPIRITO SANTO   \n",
              "3  vw_pib_percapita.fid-4514e25a_17aaa325034_-258c  3613       MINAS GERAIS   \n",
              "4  vw_pib_percapita.fid-4514e25a_17aaa325034_-258b  1028              PIAUÍ   \n",
              "\n",
              "        nome   Censo           PIB  Pop_est_2009  PIB_percapita  \\\n",
              "0   Tremedal  2010.0  5.788399e+04         18433    3140.239990   \n",
              "1     Turuçu  2010.0  4.572388e+04          4000   11430.969727   \n",
              "2    Vitória  2010.0  1.978263e+07        320156   61790.589844   \n",
              "3  Jacutinga  2010.0  2.478160e+05         21424   11567.209961   \n",
              "4    Nazária  2010.0  2.095138e+04          7895    2653.750000   \n",
              "\n",
              "                          Descrição               legenda  classe  \\\n",
              "0  Produto Interno Bruto per capita             - 9639.65       1   \n",
              "1  Produto Interno Bruto per capita    9639.65 - 22144.80       2   \n",
              "2  Produto Interno Bruto per capita  52702.10 - 133669.00       4   \n",
              "3  Produto Interno Bruto per capita    9639.65 - 22144.80       2   \n",
              "4  Produto Interno Bruto per capita             - 9639.65       1   \n",
              "\n",
              "                                                geom  \n",
              "0  MULTIPOLYGON (((-41.458803305191566 -14.781415...  \n",
              "1  MULTIPOLYGON (((-52.035349932081274 -31.567509...  \n",
              "2  MULTIPOLYGON (((-40.3292566978242 -20.23997417...  \n",
              "3  MULTIPOLYGON (((-46.50528160015326 -22.3400120...  \n",
              "4  POLYGON ((-42.826685407155495 -5.3480291684437...  "
            ],
            "text/html": [
              "\n",
              "  <div id=\"df-beff9c11-ef43-435b-9d0a-ab2710e63664\">\n",
              "    <div class=\"colab-df-container\">\n",
              "      <div>\n",
              "<style scoped>\n",
              "    .dataframe tbody tr th:only-of-type {\n",
              "        vertical-align: middle;\n",
              "    }\n",
              "\n",
              "    .dataframe tbody tr th {\n",
              "        vertical-align: top;\n",
              "    }\n",
              "\n",
              "    .dataframe thead th {\n",
              "        text-align: right;\n",
              "    }\n",
              "</style>\n",
              "<table border=\"1\" class=\"dataframe\">\n",
              "  <thead>\n",
              "    <tr style=\"text-align: right;\">\n",
              "      <th></th>\n",
              "      <th>FID</th>\n",
              "      <th>gid</th>\n",
              "      <th>UF</th>\n",
              "      <th>nome</th>\n",
              "      <th>Censo</th>\n",
              "      <th>PIB</th>\n",
              "      <th>Pop_est_2009</th>\n",
              "      <th>PIB_percapita</th>\n",
              "      <th>Descrição</th>\n",
              "      <th>legenda</th>\n",
              "      <th>classe</th>\n",
              "      <th>geom</th>\n",
              "    </tr>\n",
              "  </thead>\n",
              "  <tbody>\n",
              "    <tr>\n",
              "      <th>0</th>\n",
              "      <td>vw_pib_percapita.fid-4514e25a_17aaa325034_-258f</td>\n",
              "      <td>215</td>\n",
              "      <td>BAHIA</td>\n",
              "      <td>Tremedal</td>\n",
              "      <td>2010.0</td>\n",
              "      <td>5.788399e+04</td>\n",
              "      <td>18433</td>\n",
              "      <td>3140.239990</td>\n",
              "      <td>Produto Interno Bruto per capita</td>\n",
              "      <td>- 9639.65</td>\n",
              "      <td>1</td>\n",
              "      <td>MULTIPOLYGON (((-41.458803305191566 -14.781415...</td>\n",
              "    </tr>\n",
              "    <tr>\n",
              "      <th>1</th>\n",
              "      <td>vw_pib_percapita.fid-4514e25a_17aaa325034_-258e</td>\n",
              "      <td>306</td>\n",
              "      <td>RIO GRANDE DO SUL</td>\n",
              "      <td>Turuçu</td>\n",
              "      <td>2010.0</td>\n",
              "      <td>4.572388e+04</td>\n",
              "      <td>4000</td>\n",
              "      <td>11430.969727</td>\n",
              "      <td>Produto Interno Bruto per capita</td>\n",
              "      <td>9639.65 - 22144.80</td>\n",
              "      <td>2</td>\n",
              "      <td>MULTIPOLYGON (((-52.035349932081274 -31.567509...</td>\n",
              "    </tr>\n",
              "    <tr>\n",
              "      <th>2</th>\n",
              "      <td>vw_pib_percapita.fid-4514e25a_17aaa325034_-258d</td>\n",
              "      <td>900</td>\n",
              "      <td>ESPIRITO SANTO</td>\n",
              "      <td>Vitória</td>\n",
              "      <td>2010.0</td>\n",
              "      <td>1.978263e+07</td>\n",
              "      <td>320156</td>\n",
              "      <td>61790.589844</td>\n",
              "      <td>Produto Interno Bruto per capita</td>\n",
              "      <td>52702.10 - 133669.00</td>\n",
              "      <td>4</td>\n",
              "      <td>MULTIPOLYGON (((-40.3292566978242 -20.23997417...</td>\n",
              "    </tr>\n",
              "    <tr>\n",
              "      <th>3</th>\n",
              "      <td>vw_pib_percapita.fid-4514e25a_17aaa325034_-258c</td>\n",
              "      <td>3613</td>\n",
              "      <td>MINAS GERAIS</td>\n",
              "      <td>Jacutinga</td>\n",
              "      <td>2010.0</td>\n",
              "      <td>2.478160e+05</td>\n",
              "      <td>21424</td>\n",
              "      <td>11567.209961</td>\n",
              "      <td>Produto Interno Bruto per capita</td>\n",
              "      <td>9639.65 - 22144.80</td>\n",
              "      <td>2</td>\n",
              "      <td>MULTIPOLYGON (((-46.50528160015326 -22.3400120...</td>\n",
              "    </tr>\n",
              "    <tr>\n",
              "      <th>4</th>\n",
              "      <td>vw_pib_percapita.fid-4514e25a_17aaa325034_-258b</td>\n",
              "      <td>1028</td>\n",
              "      <td>PIAUÍ</td>\n",
              "      <td>Nazária</td>\n",
              "      <td>2010.0</td>\n",
              "      <td>2.095138e+04</td>\n",
              "      <td>7895</td>\n",
              "      <td>2653.750000</td>\n",
              "      <td>Produto Interno Bruto per capita</td>\n",
              "      <td>- 9639.65</td>\n",
              "      <td>1</td>\n",
              "      <td>POLYGON ((-42.826685407155495 -5.3480291684437...</td>\n",
              "    </tr>\n",
              "  </tbody>\n",
              "</table>\n",
              "</div>\n",
              "      <button class=\"colab-df-convert\" onclick=\"convertToInteractive('df-beff9c11-ef43-435b-9d0a-ab2710e63664')\"\n",
              "              title=\"Convert this dataframe to an interactive table.\"\n",
              "              style=\"display:none;\">\n",
              "        \n",
              "  <svg xmlns=\"http://www.w3.org/2000/svg\" height=\"24px\"viewBox=\"0 0 24 24\"\n",
              "       width=\"24px\">\n",
              "    <path d=\"M0 0h24v24H0V0z\" fill=\"none\"/>\n",
              "    <path d=\"M18.56 5.44l.94 2.06.94-2.06 2.06-.94-2.06-.94-.94-2.06-.94 2.06-2.06.94zm-11 1L8.5 8.5l.94-2.06 2.06-.94-2.06-.94L8.5 2.5l-.94 2.06-2.06.94zm10 10l.94 2.06.94-2.06 2.06-.94-2.06-.94-.94-2.06-.94 2.06-2.06.94z\"/><path d=\"M17.41 7.96l-1.37-1.37c-.4-.4-.92-.59-1.43-.59-.52 0-1.04.2-1.43.59L10.3 9.45l-7.72 7.72c-.78.78-.78 2.05 0 2.83L4 21.41c.39.39.9.59 1.41.59.51 0 1.02-.2 1.41-.59l7.78-7.78 2.81-2.81c.8-.78.8-2.07 0-2.86zM5.41 20L4 18.59l7.72-7.72 1.47 1.35L5.41 20z\"/>\n",
              "  </svg>\n",
              "      </button>\n",
              "      \n",
              "  <style>\n",
              "    .colab-df-container {\n",
              "      display:flex;\n",
              "      flex-wrap:wrap;\n",
              "      gap: 12px;\n",
              "    }\n",
              "\n",
              "    .colab-df-convert {\n",
              "      background-color: #E8F0FE;\n",
              "      border: none;\n",
              "      border-radius: 50%;\n",
              "      cursor: pointer;\n",
              "      display: none;\n",
              "      fill: #1967D2;\n",
              "      height: 32px;\n",
              "      padding: 0 0 0 0;\n",
              "      width: 32px;\n",
              "    }\n",
              "\n",
              "    .colab-df-convert:hover {\n",
              "      background-color: #E2EBFA;\n",
              "      box-shadow: 0px 1px 2px rgba(60, 64, 67, 0.3), 0px 1px 3px 1px rgba(60, 64, 67, 0.15);\n",
              "      fill: #174EA6;\n",
              "    }\n",
              "\n",
              "    [theme=dark] .colab-df-convert {\n",
              "      background-color: #3B4455;\n",
              "      fill: #D2E3FC;\n",
              "    }\n",
              "\n",
              "    [theme=dark] .colab-df-convert:hover {\n",
              "      background-color: #434B5C;\n",
              "      box-shadow: 0px 1px 3px 1px rgba(0, 0, 0, 0.15);\n",
              "      filter: drop-shadow(0px 1px 2px rgba(0, 0, 0, 0.3));\n",
              "      fill: #FFFFFF;\n",
              "    }\n",
              "  </style>\n",
              "\n",
              "      <script>\n",
              "        const buttonEl =\n",
              "          document.querySelector('#df-beff9c11-ef43-435b-9d0a-ab2710e63664 button.colab-df-convert');\n",
              "        buttonEl.style.display =\n",
              "          google.colab.kernel.accessAllowed ? 'block' : 'none';\n",
              "\n",
              "        async function convertToInteractive(key) {\n",
              "          const element = document.querySelector('#df-beff9c11-ef43-435b-9d0a-ab2710e63664');\n",
              "          const dataTable =\n",
              "            await google.colab.kernel.invokeFunction('convertToInteractive',\n",
              "                                                     [key], {});\n",
              "          if (!dataTable) return;\n",
              "\n",
              "          const docLinkHtml = 'Like what you see? Visit the ' +\n",
              "            '<a target=\"_blank\" href=https://colab.research.google.com/notebooks/data_table.ipynb>data table notebook</a>'\n",
              "            + ' to learn more about interactive tables.';\n",
              "          element.innerHTML = '';\n",
              "          dataTable['output_type'] = 'display_data';\n",
              "          await google.colab.output.renderOutput(dataTable, element);\n",
              "          const docLink = document.createElement('div');\n",
              "          docLink.innerHTML = docLinkHtml;\n",
              "          element.appendChild(docLink);\n",
              "        }\n",
              "      </script>\n",
              "    </div>\n",
              "  </div>\n",
              "  "
            ]
          },
          "metadata": {},
          "execution_count": 56
        }
      ]
    },
    {
      "cell_type": "code",
      "metadata": {
        "id": "2NKpI4h9Yq95",
        "colab": {
          "base_uri": "https://localhost:8080/"
        },
        "outputId": "aaac0690-a706-4cd0-9e2b-b36d3a56e823"
      },
      "source": [
        "# visualize os resultados\n",
        "dados.info()"
      ],
      "execution_count": 40,
      "outputs": [
        {
          "output_type": "stream",
          "name": "stdout",
          "text": [
            "<class 'pandas.core.frame.DataFrame'>\n",
            "RangeIndex: 5566 entries, 0 to 5565\n",
            "Data columns (total 12 columns):\n",
            " #   Column         Non-Null Count  Dtype  \n",
            "---  ------         --------------  -----  \n",
            " 0   FID            5566 non-null   object \n",
            " 1   gid            5566 non-null   int64  \n",
            " 2   UF             5566 non-null   object \n",
            " 3   nome           5565 non-null   object \n",
            " 4   Censo          5560 non-null   float64\n",
            " 5   PIB            5566 non-null   float64\n",
            " 6   Pop_est_2009   5566 non-null   int64  \n",
            " 7   PIB_percapita  5566 non-null   float64\n",
            " 8   Descrição      5566 non-null   object \n",
            " 9   legenda        5566 non-null   object \n",
            " 10  classe         5566 non-null   int64  \n",
            " 11  geom           5566 non-null   object \n",
            "dtypes: float64(3), int64(3), object(6)\n",
            "memory usage: 521.9+ KB\n"
          ]
        }
      ]
    },
    {
      "cell_type": "code",
      "metadata": {
        "id": "BRVLwHxHYq96",
        "colab": {
          "base_uri": "https://localhost:8080/",
          "height": 206
        },
        "outputId": "f39c5414-1120-4529-a0b5-828a414673bf"
      },
      "source": [
        "dados_cidades = dados[['nome','UF','PIB','Pop_est_2009','PIB_percapita']]\n",
        "dados_cidades.columns = list(map(lambda coluna: coluna.lower(),dados_cidades.columns))\n",
        "dados_cidades.head()"
      ],
      "execution_count": 45,
      "outputs": [
        {
          "output_type": "execute_result",
          "data": {
            "text/plain": [
              "        nome                 uf           pib  pop_est_2009  pib_percapita\n",
              "0   Tremedal              BAHIA  5.788399e+04         18433    3140.239990\n",
              "1     Turuçu  RIO GRANDE DO SUL  4.572388e+04          4000   11430.969727\n",
              "2    Vitória     ESPIRITO SANTO  1.978263e+07        320156   61790.589844\n",
              "3  Jacutinga       MINAS GERAIS  2.478160e+05         21424   11567.209961\n",
              "4    Nazária              PIAUÍ  2.095138e+04          7895    2653.750000"
            ],
            "text/html": [
              "\n",
              "  <div id=\"df-f1db2386-d358-459a-be80-ab573f3b97a4\">\n",
              "    <div class=\"colab-df-container\">\n",
              "      <div>\n",
              "<style scoped>\n",
              "    .dataframe tbody tr th:only-of-type {\n",
              "        vertical-align: middle;\n",
              "    }\n",
              "\n",
              "    .dataframe tbody tr th {\n",
              "        vertical-align: top;\n",
              "    }\n",
              "\n",
              "    .dataframe thead th {\n",
              "        text-align: right;\n",
              "    }\n",
              "</style>\n",
              "<table border=\"1\" class=\"dataframe\">\n",
              "  <thead>\n",
              "    <tr style=\"text-align: right;\">\n",
              "      <th></th>\n",
              "      <th>nome</th>\n",
              "      <th>uf</th>\n",
              "      <th>pib</th>\n",
              "      <th>pop_est_2009</th>\n",
              "      <th>pib_percapita</th>\n",
              "    </tr>\n",
              "  </thead>\n",
              "  <tbody>\n",
              "    <tr>\n",
              "      <th>0</th>\n",
              "      <td>Tremedal</td>\n",
              "      <td>BAHIA</td>\n",
              "      <td>5.788399e+04</td>\n",
              "      <td>18433</td>\n",
              "      <td>3140.239990</td>\n",
              "    </tr>\n",
              "    <tr>\n",
              "      <th>1</th>\n",
              "      <td>Turuçu</td>\n",
              "      <td>RIO GRANDE DO SUL</td>\n",
              "      <td>4.572388e+04</td>\n",
              "      <td>4000</td>\n",
              "      <td>11430.969727</td>\n",
              "    </tr>\n",
              "    <tr>\n",
              "      <th>2</th>\n",
              "      <td>Vitória</td>\n",
              "      <td>ESPIRITO SANTO</td>\n",
              "      <td>1.978263e+07</td>\n",
              "      <td>320156</td>\n",
              "      <td>61790.589844</td>\n",
              "    </tr>\n",
              "    <tr>\n",
              "      <th>3</th>\n",
              "      <td>Jacutinga</td>\n",
              "      <td>MINAS GERAIS</td>\n",
              "      <td>2.478160e+05</td>\n",
              "      <td>21424</td>\n",
              "      <td>11567.209961</td>\n",
              "    </tr>\n",
              "    <tr>\n",
              "      <th>4</th>\n",
              "      <td>Nazária</td>\n",
              "      <td>PIAUÍ</td>\n",
              "      <td>2.095138e+04</td>\n",
              "      <td>7895</td>\n",
              "      <td>2653.750000</td>\n",
              "    </tr>\n",
              "  </tbody>\n",
              "</table>\n",
              "</div>\n",
              "      <button class=\"colab-df-convert\" onclick=\"convertToInteractive('df-f1db2386-d358-459a-be80-ab573f3b97a4')\"\n",
              "              title=\"Convert this dataframe to an interactive table.\"\n",
              "              style=\"display:none;\">\n",
              "        \n",
              "  <svg xmlns=\"http://www.w3.org/2000/svg\" height=\"24px\"viewBox=\"0 0 24 24\"\n",
              "       width=\"24px\">\n",
              "    <path d=\"M0 0h24v24H0V0z\" fill=\"none\"/>\n",
              "    <path d=\"M18.56 5.44l.94 2.06.94-2.06 2.06-.94-2.06-.94-.94-2.06-.94 2.06-2.06.94zm-11 1L8.5 8.5l.94-2.06 2.06-.94-2.06-.94L8.5 2.5l-.94 2.06-2.06.94zm10 10l.94 2.06.94-2.06 2.06-.94-2.06-.94-.94-2.06-.94 2.06-2.06.94z\"/><path d=\"M17.41 7.96l-1.37-1.37c-.4-.4-.92-.59-1.43-.59-.52 0-1.04.2-1.43.59L10.3 9.45l-7.72 7.72c-.78.78-.78 2.05 0 2.83L4 21.41c.39.39.9.59 1.41.59.51 0 1.02-.2 1.41-.59l7.78-7.78 2.81-2.81c.8-.78.8-2.07 0-2.86zM5.41 20L4 18.59l7.72-7.72 1.47 1.35L5.41 20z\"/>\n",
              "  </svg>\n",
              "      </button>\n",
              "      \n",
              "  <style>\n",
              "    .colab-df-container {\n",
              "      display:flex;\n",
              "      flex-wrap:wrap;\n",
              "      gap: 12px;\n",
              "    }\n",
              "\n",
              "    .colab-df-convert {\n",
              "      background-color: #E8F0FE;\n",
              "      border: none;\n",
              "      border-radius: 50%;\n",
              "      cursor: pointer;\n",
              "      display: none;\n",
              "      fill: #1967D2;\n",
              "      height: 32px;\n",
              "      padding: 0 0 0 0;\n",
              "      width: 32px;\n",
              "    }\n",
              "\n",
              "    .colab-df-convert:hover {\n",
              "      background-color: #E2EBFA;\n",
              "      box-shadow: 0px 1px 2px rgba(60, 64, 67, 0.3), 0px 1px 3px 1px rgba(60, 64, 67, 0.15);\n",
              "      fill: #174EA6;\n",
              "    }\n",
              "\n",
              "    [theme=dark] .colab-df-convert {\n",
              "      background-color: #3B4455;\n",
              "      fill: #D2E3FC;\n",
              "    }\n",
              "\n",
              "    [theme=dark] .colab-df-convert:hover {\n",
              "      background-color: #434B5C;\n",
              "      box-shadow: 0px 1px 3px 1px rgba(0, 0, 0, 0.15);\n",
              "      filter: drop-shadow(0px 1px 2px rgba(0, 0, 0, 0.3));\n",
              "      fill: #FFFFFF;\n",
              "    }\n",
              "  </style>\n",
              "\n",
              "      <script>\n",
              "        const buttonEl =\n",
              "          document.querySelector('#df-f1db2386-d358-459a-be80-ab573f3b97a4 button.colab-df-convert');\n",
              "        buttonEl.style.display =\n",
              "          google.colab.kernel.accessAllowed ? 'block' : 'none';\n",
              "\n",
              "        async function convertToInteractive(key) {\n",
              "          const element = document.querySelector('#df-f1db2386-d358-459a-be80-ab573f3b97a4');\n",
              "          const dataTable =\n",
              "            await google.colab.kernel.invokeFunction('convertToInteractive',\n",
              "                                                     [key], {});\n",
              "          if (!dataTable) return;\n",
              "\n",
              "          const docLinkHtml = 'Like what you see? Visit the ' +\n",
              "            '<a target=\"_blank\" href=https://colab.research.google.com/notebooks/data_table.ipynb>data table notebook</a>'\n",
              "            + ' to learn more about interactive tables.';\n",
              "          element.innerHTML = '';\n",
              "          dataTable['output_type'] = 'display_data';\n",
              "          await google.colab.output.renderOutput(dataTable, element);\n",
              "          const docLink = document.createElement('div');\n",
              "          docLink.innerHTML = docLinkHtml;\n",
              "          element.appendChild(docLink);\n",
              "        }\n",
              "      </script>\n",
              "    </div>\n",
              "  </div>\n",
              "  "
            ]
          },
          "metadata": {},
          "execution_count": 45
        }
      ]
    },
    {
      "cell_type": "markdown",
      "source": [
        "***ao fazer o merge no pandas alguns estados do dataframa dados_cidades não combinam utilizando a coluna 'uf' para o inner, Então fui explorar os dados para identificar o problema e descobri que os nomes dos estados retirados do csv estao com pontuação. então vou retirar e verificar se todos as ufs vao coincidir***"
      ],
      "metadata": {
        "id": "xn7wMCPOQyXt"
      }
    },
    {
      "cell_type": "code",
      "source": [
        "#print(sorted(estados))\n",
        "#print(sorted(dados_cidades['uf'].unique()))\n",
        "def retirar_acentos(uf):\n",
        "    #retirar todas as pontuações de todas as vogais\n",
        "    return uf.replace('Á','A').replace('Â','A').replace('Ã','A').replace('É','E')\\\n",
        "    .replace('Ê','E').replace('Í','I').replace('Ó','O').replace('Ô','O').replace('Ú','U')\n",
        "\n",
        "dados_cidades['uf'].fillna('',inplace=True)\n",
        "dados_cidades.loc[:,'uf'] = dados_cidades['uf'].apply(lambda elemento: retirar_acentos(elemento))"
      ],
      "metadata": {
        "id": "OI_9GyppObE7",
        "outputId": "d2d1725e-b22c-4dd0-ee00-0593ad10a31b",
        "colab": {
          "base_uri": "https://localhost:8080/"
        }
      },
      "execution_count": 47,
      "outputs": [
        {
          "output_type": "stream",
          "name": "stdout",
          "text": [
            "<class 'pandas.core.frame.DataFrame'>\n",
            "RangeIndex: 5566 entries, 0 to 5565\n",
            "Data columns (total 5 columns):\n",
            " #   Column         Non-Null Count  Dtype  \n",
            "---  ------         --------------  -----  \n",
            " 0   nome           5565 non-null   object \n",
            " 1   uf             5566 non-null   object \n",
            " 2   pib            5566 non-null   float64\n",
            " 3   pop_est_2009   5566 non-null   int64  \n",
            " 4   pib_percapita  5566 non-null   float64\n",
            "dtypes: float64(2), int64(1), object(2)\n",
            "memory usage: 217.5+ KB\n"
          ]
        },
        {
          "output_type": "stream",
          "name": "stderr",
          "text": [
            "<ipython-input-47-bdb436bd28eb>:8: SettingWithCopyWarning: \n",
            "A value is trying to be set on a copy of a slice from a DataFrame\n",
            "\n",
            "See the caveats in the documentation: https://pandas.pydata.org/pandas-docs/stable/user_guide/indexing.html#returning-a-view-versus-a-copy\n",
            "  dados_cidades['uf'].fillna('',inplace=True)\n",
            "<ipython-input-47-bdb436bd28eb>:9: SettingWithCopyWarning: \n",
            "A value is trying to be set on a copy of a slice from a DataFrame.\n",
            "Try using .loc[row_indexer,col_indexer] = value instead\n",
            "\n",
            "See the caveats in the documentation: https://pandas.pydata.org/pandas-docs/stable/user_guide/indexing.html#returning-a-view-versus-a-copy\n",
            "  dados_cidades.loc[:,'uf'] = dados_cidades['uf'].apply(lambda elemento: retirar_acentos(elemento))\n"
          ]
        }
      ]
    },
    {
      "cell_type": "code",
      "metadata": {
        "id": "GcAWBfwhYq96"
      },
      "source": [
        "# escrever o conteudo extraido no arquivo cidades-limpo.csv separados por ;\n",
        "dados_cidades.to_csv('./cidades-limpo.csv',index='False',sep=';')"
      ],
      "execution_count": 57,
      "outputs": []
    },
    {
      "cell_type": "markdown",
      "metadata": {
        "id": "EBzoHVD8b_c7"
      },
      "source": [
        "### **1.3. Brasil**"
      ]
    },
    {
      "cell_type": "markdown",
      "metadata": {
        "id": "Ft6l5bDwb_c7"
      },
      "source": [
        "Utilize o pacote Python `pandas` para combinar os dados do arquivo `estados-bruto.csv` com os dados do arquivo `cidades-bruto.csv` em um único dataframe. Escolha a coluna e o método de combinação de tal forma que **não haja perda de dados** no processo (não produzirá valores nulos `NaN`). Salve os dados do dataframe no arquivo `brasil.csv`"
      ]
    },
    {
      "cell_type": "markdown",
      "source": [],
      "metadata": {
        "id": "r7Bkhr9d4pjl"
      }
    },
    {
      "cell_type": "code",
      "metadata": {
        "id": "Vz3J7G4-dBXa"
      },
      "source": [
        "estados_limpo = pd.read_csv('estados-limpo.csv',delimiter=';')\n",
        "estados_limpo.columns = ['uf','pib','populacao']\n",
        "brasil_df = estados_limpo.merge(dados_cidades,on='uf')\n",
        "brasil_df.to_csv('./brasil.csv',sep=';',index=False)"
      ],
      "execution_count": 48,
      "outputs": []
    },
    {
      "cell_type": "markdown",
      "metadata": {
        "id": "waxn4B2UDHyl"
      },
      "source": [
        "---"
      ]
    },
    {
      "cell_type": "markdown",
      "metadata": {
        "id": "finLQoyyGVmk"
      },
      "source": [
        "## 2\\. Data Analytics"
      ]
    },
    {
      "cell_type": "markdown",
      "metadata": {
        "id": "Ab0GW19Ed1ig"
      },
      "source": [
        "### **2.1. DataFrame**"
      ]
    },
    {
      "cell_type": "markdown",
      "metadata": {
        "id": "l8jJYjeBdijt"
      },
      "source": [
        "Utilize o pacote Python `pandas` para carregar o arquivo `brasil.csv` no dataframe `brasil_df`."
      ]
    },
    {
      "cell_type": "code",
      "metadata": {
        "id": "8kFQLlqud4QL",
        "outputId": "3e421526-9eef-45a4-de66-3bb7e309ee7d",
        "colab": {
          "base_uri": "https://localhost:8080/",
          "height": 206
        }
      },
      "source": [
        "dados_br = pd.read_csv('brasil.csv',delimiter=';')\n",
        "dados_br.columns = ['uf','sigla','regiao','cidade','pib','populacao','pib_percapita']\n",
        "dados_br.head()"
      ],
      "execution_count": 59,
      "outputs": [
        {
          "output_type": "execute_result",
          "data": {
            "text/plain": [
              "     uf sigla regiao                cidade            pib  populacao  \\\n",
              "0  ACRE    AC  NORTE  Marechal Thaumaturgo  109181.867188      14275   \n",
              "1  ACRE    AC  NORTE      Senador Guiomard  217153.859375      19697   \n",
              "2  ACRE    AC  NORTE          Assis Brasil   48347.300781       5662   \n",
              "3  ACRE    AC  NORTE        Epitaciolândia  129641.093750      14224   \n",
              "4  ACRE    AC  NORTE         Manoel Urbano   61478.730469       7505   \n",
              "\n",
              "   pib_percapita  \n",
              "0    7648.470215  \n",
              "1   11024.719727  \n",
              "2    8538.910156  \n",
              "3    9114.250000  \n",
              "4    8191.700195  "
            ],
            "text/html": [
              "\n",
              "  <div id=\"df-98b06188-1af3-4c54-903b-df7401da88f2\">\n",
              "    <div class=\"colab-df-container\">\n",
              "      <div>\n",
              "<style scoped>\n",
              "    .dataframe tbody tr th:only-of-type {\n",
              "        vertical-align: middle;\n",
              "    }\n",
              "\n",
              "    .dataframe tbody tr th {\n",
              "        vertical-align: top;\n",
              "    }\n",
              "\n",
              "    .dataframe thead th {\n",
              "        text-align: right;\n",
              "    }\n",
              "</style>\n",
              "<table border=\"1\" class=\"dataframe\">\n",
              "  <thead>\n",
              "    <tr style=\"text-align: right;\">\n",
              "      <th></th>\n",
              "      <th>uf</th>\n",
              "      <th>sigla</th>\n",
              "      <th>regiao</th>\n",
              "      <th>cidade</th>\n",
              "      <th>pib</th>\n",
              "      <th>populacao</th>\n",
              "      <th>pib_percapita</th>\n",
              "    </tr>\n",
              "  </thead>\n",
              "  <tbody>\n",
              "    <tr>\n",
              "      <th>0</th>\n",
              "      <td>ACRE</td>\n",
              "      <td>AC</td>\n",
              "      <td>NORTE</td>\n",
              "      <td>Marechal Thaumaturgo</td>\n",
              "      <td>109181.867188</td>\n",
              "      <td>14275</td>\n",
              "      <td>7648.470215</td>\n",
              "    </tr>\n",
              "    <tr>\n",
              "      <th>1</th>\n",
              "      <td>ACRE</td>\n",
              "      <td>AC</td>\n",
              "      <td>NORTE</td>\n",
              "      <td>Senador Guiomard</td>\n",
              "      <td>217153.859375</td>\n",
              "      <td>19697</td>\n",
              "      <td>11024.719727</td>\n",
              "    </tr>\n",
              "    <tr>\n",
              "      <th>2</th>\n",
              "      <td>ACRE</td>\n",
              "      <td>AC</td>\n",
              "      <td>NORTE</td>\n",
              "      <td>Assis Brasil</td>\n",
              "      <td>48347.300781</td>\n",
              "      <td>5662</td>\n",
              "      <td>8538.910156</td>\n",
              "    </tr>\n",
              "    <tr>\n",
              "      <th>3</th>\n",
              "      <td>ACRE</td>\n",
              "      <td>AC</td>\n",
              "      <td>NORTE</td>\n",
              "      <td>Epitaciolândia</td>\n",
              "      <td>129641.093750</td>\n",
              "      <td>14224</td>\n",
              "      <td>9114.250000</td>\n",
              "    </tr>\n",
              "    <tr>\n",
              "      <th>4</th>\n",
              "      <td>ACRE</td>\n",
              "      <td>AC</td>\n",
              "      <td>NORTE</td>\n",
              "      <td>Manoel Urbano</td>\n",
              "      <td>61478.730469</td>\n",
              "      <td>7505</td>\n",
              "      <td>8191.700195</td>\n",
              "    </tr>\n",
              "  </tbody>\n",
              "</table>\n",
              "</div>\n",
              "      <button class=\"colab-df-convert\" onclick=\"convertToInteractive('df-98b06188-1af3-4c54-903b-df7401da88f2')\"\n",
              "              title=\"Convert this dataframe to an interactive table.\"\n",
              "              style=\"display:none;\">\n",
              "        \n",
              "  <svg xmlns=\"http://www.w3.org/2000/svg\" height=\"24px\"viewBox=\"0 0 24 24\"\n",
              "       width=\"24px\">\n",
              "    <path d=\"M0 0h24v24H0V0z\" fill=\"none\"/>\n",
              "    <path d=\"M18.56 5.44l.94 2.06.94-2.06 2.06-.94-2.06-.94-.94-2.06-.94 2.06-2.06.94zm-11 1L8.5 8.5l.94-2.06 2.06-.94-2.06-.94L8.5 2.5l-.94 2.06-2.06.94zm10 10l.94 2.06.94-2.06 2.06-.94-2.06-.94-.94-2.06-.94 2.06-2.06.94z\"/><path d=\"M17.41 7.96l-1.37-1.37c-.4-.4-.92-.59-1.43-.59-.52 0-1.04.2-1.43.59L10.3 9.45l-7.72 7.72c-.78.78-.78 2.05 0 2.83L4 21.41c.39.39.9.59 1.41.59.51 0 1.02-.2 1.41-.59l7.78-7.78 2.81-2.81c.8-.78.8-2.07 0-2.86zM5.41 20L4 18.59l7.72-7.72 1.47 1.35L5.41 20z\"/>\n",
              "  </svg>\n",
              "      </button>\n",
              "      \n",
              "  <style>\n",
              "    .colab-df-container {\n",
              "      display:flex;\n",
              "      flex-wrap:wrap;\n",
              "      gap: 12px;\n",
              "    }\n",
              "\n",
              "    .colab-df-convert {\n",
              "      background-color: #E8F0FE;\n",
              "      border: none;\n",
              "      border-radius: 50%;\n",
              "      cursor: pointer;\n",
              "      display: none;\n",
              "      fill: #1967D2;\n",
              "      height: 32px;\n",
              "      padding: 0 0 0 0;\n",
              "      width: 32px;\n",
              "    }\n",
              "\n",
              "    .colab-df-convert:hover {\n",
              "      background-color: #E2EBFA;\n",
              "      box-shadow: 0px 1px 2px rgba(60, 64, 67, 0.3), 0px 1px 3px 1px rgba(60, 64, 67, 0.15);\n",
              "      fill: #174EA6;\n",
              "    }\n",
              "\n",
              "    [theme=dark] .colab-df-convert {\n",
              "      background-color: #3B4455;\n",
              "      fill: #D2E3FC;\n",
              "    }\n",
              "\n",
              "    [theme=dark] .colab-df-convert:hover {\n",
              "      background-color: #434B5C;\n",
              "      box-shadow: 0px 1px 3px 1px rgba(0, 0, 0, 0.15);\n",
              "      filter: drop-shadow(0px 1px 2px rgba(0, 0, 0, 0.3));\n",
              "      fill: #FFFFFF;\n",
              "    }\n",
              "  </style>\n",
              "\n",
              "      <script>\n",
              "        const buttonEl =\n",
              "          document.querySelector('#df-98b06188-1af3-4c54-903b-df7401da88f2 button.colab-df-convert');\n",
              "        buttonEl.style.display =\n",
              "          google.colab.kernel.accessAllowed ? 'block' : 'none';\n",
              "\n",
              "        async function convertToInteractive(key) {\n",
              "          const element = document.querySelector('#df-98b06188-1af3-4c54-903b-df7401da88f2');\n",
              "          const dataTable =\n",
              "            await google.colab.kernel.invokeFunction('convertToInteractive',\n",
              "                                                     [key], {});\n",
              "          if (!dataTable) return;\n",
              "\n",
              "          const docLinkHtml = 'Like what you see? Visit the ' +\n",
              "            '<a target=\"_blank\" href=https://colab.research.google.com/notebooks/data_table.ipynb>data table notebook</a>'\n",
              "            + ' to learn more about interactive tables.';\n",
              "          element.innerHTML = '';\n",
              "          dataTable['output_type'] = 'display_data';\n",
              "          await google.colab.output.renderOutput(dataTable, element);\n",
              "          const docLink = document.createElement('div');\n",
              "          docLink.innerHTML = docLinkHtml;\n",
              "          element.appendChild(docLink);\n",
              "        }\n",
              "      </script>\n",
              "    </div>\n",
              "  </div>\n",
              "  "
            ]
          },
          "metadata": {},
          "execution_count": 59
        }
      ]
    },
    {
      "cell_type": "markdown",
      "metadata": {
        "id": "ZFWvK8FXHuex"
      },
      "source": [
        "### **2.2. Analise**"
      ]
    },
    {
      "cell_type": "markdown",
      "metadata": {
        "id": "EGyz0R1dd62D"
      },
      "source": [
        "Utilize o dataframe `brasil_df` para responder as seguintes perguntas de negócio:"
      ]
    },
    {
      "cell_type": "markdown",
      "source": [],
      "metadata": {
        "id": "Y1s2pwTvHVmt"
      }
    },
    {
      "cell_type": "markdown",
      "metadata": {
        "id": "lGnYVp7IeFBD"
      },
      "source": [
        " - Quais são as 10 cidades mais populosas do Brasil?"
      ]
    },
    {
      "cell_type": "code",
      "metadata": {
        "id": "KQKcD-VkeQYf",
        "outputId": "2a5fd94d-3d20-4dfd-8653-cbd650f3b084",
        "colab": {
          "base_uri": "https://localhost:8080/",
          "height": 363
        }
      },
      "source": [
        "cidades10_populosas = dados_br.nlargest(10,'populacao').reset_index(drop=True)\n",
        "cidades10_populosas = cidades10_populosas[['cidade','populacao']]\n",
        "cidades10_populosas"
      ],
      "execution_count": 52,
      "outputs": [
        {
          "output_type": "execute_result",
          "data": {
            "text/plain": [
              "           cidade  populacao\n",
              "0       São Paulo   11037593\n",
              "1  Rio de Janeiro    6186710\n",
              "2        Salvador    2998056\n",
              "3        Brasília    2606885\n",
              "4       Fortaleza    2505552\n",
              "5  Belo Horizonte    2452617\n",
              "6        Curitiba    1851215\n",
              "7          Manaus    1738641\n",
              "8          Recife    1561659\n",
              "9           Belém    1437600"
            ],
            "text/html": [
              "\n",
              "  <div id=\"df-91f87afa-d41a-435f-af0b-8b5bd6c573fe\">\n",
              "    <div class=\"colab-df-container\">\n",
              "      <div>\n",
              "<style scoped>\n",
              "    .dataframe tbody tr th:only-of-type {\n",
              "        vertical-align: middle;\n",
              "    }\n",
              "\n",
              "    .dataframe tbody tr th {\n",
              "        vertical-align: top;\n",
              "    }\n",
              "\n",
              "    .dataframe thead th {\n",
              "        text-align: right;\n",
              "    }\n",
              "</style>\n",
              "<table border=\"1\" class=\"dataframe\">\n",
              "  <thead>\n",
              "    <tr style=\"text-align: right;\">\n",
              "      <th></th>\n",
              "      <th>cidade</th>\n",
              "      <th>populacao</th>\n",
              "    </tr>\n",
              "  </thead>\n",
              "  <tbody>\n",
              "    <tr>\n",
              "      <th>0</th>\n",
              "      <td>São Paulo</td>\n",
              "      <td>11037593</td>\n",
              "    </tr>\n",
              "    <tr>\n",
              "      <th>1</th>\n",
              "      <td>Rio de Janeiro</td>\n",
              "      <td>6186710</td>\n",
              "    </tr>\n",
              "    <tr>\n",
              "      <th>2</th>\n",
              "      <td>Salvador</td>\n",
              "      <td>2998056</td>\n",
              "    </tr>\n",
              "    <tr>\n",
              "      <th>3</th>\n",
              "      <td>Brasília</td>\n",
              "      <td>2606885</td>\n",
              "    </tr>\n",
              "    <tr>\n",
              "      <th>4</th>\n",
              "      <td>Fortaleza</td>\n",
              "      <td>2505552</td>\n",
              "    </tr>\n",
              "    <tr>\n",
              "      <th>5</th>\n",
              "      <td>Belo Horizonte</td>\n",
              "      <td>2452617</td>\n",
              "    </tr>\n",
              "    <tr>\n",
              "      <th>6</th>\n",
              "      <td>Curitiba</td>\n",
              "      <td>1851215</td>\n",
              "    </tr>\n",
              "    <tr>\n",
              "      <th>7</th>\n",
              "      <td>Manaus</td>\n",
              "      <td>1738641</td>\n",
              "    </tr>\n",
              "    <tr>\n",
              "      <th>8</th>\n",
              "      <td>Recife</td>\n",
              "      <td>1561659</td>\n",
              "    </tr>\n",
              "    <tr>\n",
              "      <th>9</th>\n",
              "      <td>Belém</td>\n",
              "      <td>1437600</td>\n",
              "    </tr>\n",
              "  </tbody>\n",
              "</table>\n",
              "</div>\n",
              "      <button class=\"colab-df-convert\" onclick=\"convertToInteractive('df-91f87afa-d41a-435f-af0b-8b5bd6c573fe')\"\n",
              "              title=\"Convert this dataframe to an interactive table.\"\n",
              "              style=\"display:none;\">\n",
              "        \n",
              "  <svg xmlns=\"http://www.w3.org/2000/svg\" height=\"24px\"viewBox=\"0 0 24 24\"\n",
              "       width=\"24px\">\n",
              "    <path d=\"M0 0h24v24H0V0z\" fill=\"none\"/>\n",
              "    <path d=\"M18.56 5.44l.94 2.06.94-2.06 2.06-.94-2.06-.94-.94-2.06-.94 2.06-2.06.94zm-11 1L8.5 8.5l.94-2.06 2.06-.94-2.06-.94L8.5 2.5l-.94 2.06-2.06.94zm10 10l.94 2.06.94-2.06 2.06-.94-2.06-.94-.94-2.06-.94 2.06-2.06.94z\"/><path d=\"M17.41 7.96l-1.37-1.37c-.4-.4-.92-.59-1.43-.59-.52 0-1.04.2-1.43.59L10.3 9.45l-7.72 7.72c-.78.78-.78 2.05 0 2.83L4 21.41c.39.39.9.59 1.41.59.51 0 1.02-.2 1.41-.59l7.78-7.78 2.81-2.81c.8-.78.8-2.07 0-2.86zM5.41 20L4 18.59l7.72-7.72 1.47 1.35L5.41 20z\"/>\n",
              "  </svg>\n",
              "      </button>\n",
              "      \n",
              "  <style>\n",
              "    .colab-df-container {\n",
              "      display:flex;\n",
              "      flex-wrap:wrap;\n",
              "      gap: 12px;\n",
              "    }\n",
              "\n",
              "    .colab-df-convert {\n",
              "      background-color: #E8F0FE;\n",
              "      border: none;\n",
              "      border-radius: 50%;\n",
              "      cursor: pointer;\n",
              "      display: none;\n",
              "      fill: #1967D2;\n",
              "      height: 32px;\n",
              "      padding: 0 0 0 0;\n",
              "      width: 32px;\n",
              "    }\n",
              "\n",
              "    .colab-df-convert:hover {\n",
              "      background-color: #E2EBFA;\n",
              "      box-shadow: 0px 1px 2px rgba(60, 64, 67, 0.3), 0px 1px 3px 1px rgba(60, 64, 67, 0.15);\n",
              "      fill: #174EA6;\n",
              "    }\n",
              "\n",
              "    [theme=dark] .colab-df-convert {\n",
              "      background-color: #3B4455;\n",
              "      fill: #D2E3FC;\n",
              "    }\n",
              "\n",
              "    [theme=dark] .colab-df-convert:hover {\n",
              "      background-color: #434B5C;\n",
              "      box-shadow: 0px 1px 3px 1px rgba(0, 0, 0, 0.15);\n",
              "      filter: drop-shadow(0px 1px 2px rgba(0, 0, 0, 0.3));\n",
              "      fill: #FFFFFF;\n",
              "    }\n",
              "  </style>\n",
              "\n",
              "      <script>\n",
              "        const buttonEl =\n",
              "          document.querySelector('#df-91f87afa-d41a-435f-af0b-8b5bd6c573fe button.colab-df-convert');\n",
              "        buttonEl.style.display =\n",
              "          google.colab.kernel.accessAllowed ? 'block' : 'none';\n",
              "\n",
              "        async function convertToInteractive(key) {\n",
              "          const element = document.querySelector('#df-91f87afa-d41a-435f-af0b-8b5bd6c573fe');\n",
              "          const dataTable =\n",
              "            await google.colab.kernel.invokeFunction('convertToInteractive',\n",
              "                                                     [key], {});\n",
              "          if (!dataTable) return;\n",
              "\n",
              "          const docLinkHtml = 'Like what you see? Visit the ' +\n",
              "            '<a target=\"_blank\" href=https://colab.research.google.com/notebooks/data_table.ipynb>data table notebook</a>'\n",
              "            + ' to learn more about interactive tables.';\n",
              "          element.innerHTML = '';\n",
              "          dataTable['output_type'] = 'display_data';\n",
              "          await google.colab.output.renderOutput(dataTable, element);\n",
              "          const docLink = document.createElement('div');\n",
              "          docLink.innerHTML = docLinkHtml;\n",
              "          element.appendChild(docLink);\n",
              "        }\n",
              "      </script>\n",
              "    </div>\n",
              "  </div>\n",
              "  "
            ]
          },
          "metadata": {},
          "execution_count": 52
        }
      ]
    },
    {
      "cell_type": "markdown",
      "metadata": {
        "id": "l93St6uleWTp"
      },
      "source": [
        " - Quais são as 5 cidades com a menor PIB per capita da região nordeste?"
      ]
    },
    {
      "cell_type": "code",
      "metadata": {
        "id": "DS5akh2zeWTq",
        "outputId": "4a334ab3-3b42-409b-cba2-885130edcf5e",
        "colab": {
          "base_uri": "https://localhost:8080/",
          "height": 206
        }
      },
      "source": [
        "cidades5_menor_pib_nordeste = dados_br.query('regiao == \"NORDESTE\"').nsmallest(5,'pib').reset_index(drop=True)\n",
        "cidades5_menor_pib_nordeste = cidades5_menor_pib_nordeste[['cidade','pib']]\n",
        "cidades5_menor_pib_nordeste"
      ],
      "execution_count": 53,
      "outputs": [
        {
          "output_type": "execute_result",
          "data": {
            "text/plain": [
              "                       cidade          pib\n",
              "0  Santo Antônio dos Milagres  5770.282227\n",
              "1  São Miguel da Baixa Grande  7714.598145\n",
              "2                     Quixabá  8294.528320\n",
              "3                 Miguel Leão  8365.680664\n",
              "4           São Luis do Piauí  8445.269531"
            ],
            "text/html": [
              "\n",
              "  <div id=\"df-0720ebb3-5ded-4ced-9c8d-cb9d813b7d9f\">\n",
              "    <div class=\"colab-df-container\">\n",
              "      <div>\n",
              "<style scoped>\n",
              "    .dataframe tbody tr th:only-of-type {\n",
              "        vertical-align: middle;\n",
              "    }\n",
              "\n",
              "    .dataframe tbody tr th {\n",
              "        vertical-align: top;\n",
              "    }\n",
              "\n",
              "    .dataframe thead th {\n",
              "        text-align: right;\n",
              "    }\n",
              "</style>\n",
              "<table border=\"1\" class=\"dataframe\">\n",
              "  <thead>\n",
              "    <tr style=\"text-align: right;\">\n",
              "      <th></th>\n",
              "      <th>cidade</th>\n",
              "      <th>pib</th>\n",
              "    </tr>\n",
              "  </thead>\n",
              "  <tbody>\n",
              "    <tr>\n",
              "      <th>0</th>\n",
              "      <td>Santo Antônio dos Milagres</td>\n",
              "      <td>5770.282227</td>\n",
              "    </tr>\n",
              "    <tr>\n",
              "      <th>1</th>\n",
              "      <td>São Miguel da Baixa Grande</td>\n",
              "      <td>7714.598145</td>\n",
              "    </tr>\n",
              "    <tr>\n",
              "      <th>2</th>\n",
              "      <td>Quixabá</td>\n",
              "      <td>8294.528320</td>\n",
              "    </tr>\n",
              "    <tr>\n",
              "      <th>3</th>\n",
              "      <td>Miguel Leão</td>\n",
              "      <td>8365.680664</td>\n",
              "    </tr>\n",
              "    <tr>\n",
              "      <th>4</th>\n",
              "      <td>São Luis do Piauí</td>\n",
              "      <td>8445.269531</td>\n",
              "    </tr>\n",
              "  </tbody>\n",
              "</table>\n",
              "</div>\n",
              "      <button class=\"colab-df-convert\" onclick=\"convertToInteractive('df-0720ebb3-5ded-4ced-9c8d-cb9d813b7d9f')\"\n",
              "              title=\"Convert this dataframe to an interactive table.\"\n",
              "              style=\"display:none;\">\n",
              "        \n",
              "  <svg xmlns=\"http://www.w3.org/2000/svg\" height=\"24px\"viewBox=\"0 0 24 24\"\n",
              "       width=\"24px\">\n",
              "    <path d=\"M0 0h24v24H0V0z\" fill=\"none\"/>\n",
              "    <path d=\"M18.56 5.44l.94 2.06.94-2.06 2.06-.94-2.06-.94-.94-2.06-.94 2.06-2.06.94zm-11 1L8.5 8.5l.94-2.06 2.06-.94-2.06-.94L8.5 2.5l-.94 2.06-2.06.94zm10 10l.94 2.06.94-2.06 2.06-.94-2.06-.94-.94-2.06-.94 2.06-2.06.94z\"/><path d=\"M17.41 7.96l-1.37-1.37c-.4-.4-.92-.59-1.43-.59-.52 0-1.04.2-1.43.59L10.3 9.45l-7.72 7.72c-.78.78-.78 2.05 0 2.83L4 21.41c.39.39.9.59 1.41.59.51 0 1.02-.2 1.41-.59l7.78-7.78 2.81-2.81c.8-.78.8-2.07 0-2.86zM5.41 20L4 18.59l7.72-7.72 1.47 1.35L5.41 20z\"/>\n",
              "  </svg>\n",
              "      </button>\n",
              "      \n",
              "  <style>\n",
              "    .colab-df-container {\n",
              "      display:flex;\n",
              "      flex-wrap:wrap;\n",
              "      gap: 12px;\n",
              "    }\n",
              "\n",
              "    .colab-df-convert {\n",
              "      background-color: #E8F0FE;\n",
              "      border: none;\n",
              "      border-radius: 50%;\n",
              "      cursor: pointer;\n",
              "      display: none;\n",
              "      fill: #1967D2;\n",
              "      height: 32px;\n",
              "      padding: 0 0 0 0;\n",
              "      width: 32px;\n",
              "    }\n",
              "\n",
              "    .colab-df-convert:hover {\n",
              "      background-color: #E2EBFA;\n",
              "      box-shadow: 0px 1px 2px rgba(60, 64, 67, 0.3), 0px 1px 3px 1px rgba(60, 64, 67, 0.15);\n",
              "      fill: #174EA6;\n",
              "    }\n",
              "\n",
              "    [theme=dark] .colab-df-convert {\n",
              "      background-color: #3B4455;\n",
              "      fill: #D2E3FC;\n",
              "    }\n",
              "\n",
              "    [theme=dark] .colab-df-convert:hover {\n",
              "      background-color: #434B5C;\n",
              "      box-shadow: 0px 1px 3px 1px rgba(0, 0, 0, 0.15);\n",
              "      filter: drop-shadow(0px 1px 2px rgba(0, 0, 0, 0.3));\n",
              "      fill: #FFFFFF;\n",
              "    }\n",
              "  </style>\n",
              "\n",
              "      <script>\n",
              "        const buttonEl =\n",
              "          document.querySelector('#df-0720ebb3-5ded-4ced-9c8d-cb9d813b7d9f button.colab-df-convert');\n",
              "        buttonEl.style.display =\n",
              "          google.colab.kernel.accessAllowed ? 'block' : 'none';\n",
              "\n",
              "        async function convertToInteractive(key) {\n",
              "          const element = document.querySelector('#df-0720ebb3-5ded-4ced-9c8d-cb9d813b7d9f');\n",
              "          const dataTable =\n",
              "            await google.colab.kernel.invokeFunction('convertToInteractive',\n",
              "                                                     [key], {});\n",
              "          if (!dataTable) return;\n",
              "\n",
              "          const docLinkHtml = 'Like what you see? Visit the ' +\n",
              "            '<a target=\"_blank\" href=https://colab.research.google.com/notebooks/data_table.ipynb>data table notebook</a>'\n",
              "            + ' to learn more about interactive tables.';\n",
              "          element.innerHTML = '';\n",
              "          dataTable['output_type'] = 'display_data';\n",
              "          await google.colab.output.renderOutput(dataTable, element);\n",
              "          const docLink = document.createElement('div');\n",
              "          docLink.innerHTML = docLinkHtml;\n",
              "          element.appendChild(docLink);\n",
              "        }\n",
              "      </script>\n",
              "    </div>\n",
              "  </div>\n",
              "  "
            ]
          },
          "metadata": {},
          "execution_count": 53
        }
      ]
    },
    {
      "cell_type": "markdown",
      "metadata": {
        "id": "GqwffgUmedmb"
      },
      "source": [
        " - Quais são as 15 cidades com maior PIB do do estado de São Paulo?"
      ]
    },
    {
      "cell_type": "code",
      "metadata": {
        "id": "tFKEn1gLedmc",
        "outputId": "e5eec093-1e3f-4233-d022-9b55a69fd9d4",
        "colab": {
          "base_uri": "https://localhost:8080/",
          "height": 519
        }
      },
      "source": [
        "cidades15_maior_pib_sp = dados_br.query('uf == \"SAO PAULO\"').nlargest(15,'pib').reset_index(drop=True)\n",
        "cidades15_maior_pib_sp = cidades15_maior_pib_sp[['cidade','pib']]\n",
        "cidades15_maior_pib_sp"
      ],
      "execution_count": 54,
      "outputs": [
        {
          "output_type": "execute_result",
          "data": {
            "text/plain": [
              "                   cidade          pib\n",
              "0               São Paulo  389317152.0\n",
              "1               Guarulhos   32473828.0\n",
              "2                Campinas   31654720.0\n",
              "3                  Osasco   31616452.0\n",
              "4   São Bernardo do Campo   28935768.0\n",
              "5                 Barueri   26908070.0\n",
              "6                  Santos   22546134.0\n",
              "7     São José dos Campos   22018042.0\n",
              "8                 Jundiaí   16585137.0\n",
              "9             Santo André   14709603.0\n",
              "10         Ribeirão Preto   14688064.0\n",
              "11               Sorocaba   14182597.0\n",
              "12                Diadema    9969819.0\n",
              "13             Piracicaba    9601211.0\n",
              "14     São Caetano do Sul    8920202.0"
            ],
            "text/html": [
              "\n",
              "  <div id=\"df-e839876e-091f-471c-b682-c79f12554150\">\n",
              "    <div class=\"colab-df-container\">\n",
              "      <div>\n",
              "<style scoped>\n",
              "    .dataframe tbody tr th:only-of-type {\n",
              "        vertical-align: middle;\n",
              "    }\n",
              "\n",
              "    .dataframe tbody tr th {\n",
              "        vertical-align: top;\n",
              "    }\n",
              "\n",
              "    .dataframe thead th {\n",
              "        text-align: right;\n",
              "    }\n",
              "</style>\n",
              "<table border=\"1\" class=\"dataframe\">\n",
              "  <thead>\n",
              "    <tr style=\"text-align: right;\">\n",
              "      <th></th>\n",
              "      <th>cidade</th>\n",
              "      <th>pib</th>\n",
              "    </tr>\n",
              "  </thead>\n",
              "  <tbody>\n",
              "    <tr>\n",
              "      <th>0</th>\n",
              "      <td>São Paulo</td>\n",
              "      <td>389317152.0</td>\n",
              "    </tr>\n",
              "    <tr>\n",
              "      <th>1</th>\n",
              "      <td>Guarulhos</td>\n",
              "      <td>32473828.0</td>\n",
              "    </tr>\n",
              "    <tr>\n",
              "      <th>2</th>\n",
              "      <td>Campinas</td>\n",
              "      <td>31654720.0</td>\n",
              "    </tr>\n",
              "    <tr>\n",
              "      <th>3</th>\n",
              "      <td>Osasco</td>\n",
              "      <td>31616452.0</td>\n",
              "    </tr>\n",
              "    <tr>\n",
              "      <th>4</th>\n",
              "      <td>São Bernardo do Campo</td>\n",
              "      <td>28935768.0</td>\n",
              "    </tr>\n",
              "    <tr>\n",
              "      <th>5</th>\n",
              "      <td>Barueri</td>\n",
              "      <td>26908070.0</td>\n",
              "    </tr>\n",
              "    <tr>\n",
              "      <th>6</th>\n",
              "      <td>Santos</td>\n",
              "      <td>22546134.0</td>\n",
              "    </tr>\n",
              "    <tr>\n",
              "      <th>7</th>\n",
              "      <td>São José dos Campos</td>\n",
              "      <td>22018042.0</td>\n",
              "    </tr>\n",
              "    <tr>\n",
              "      <th>8</th>\n",
              "      <td>Jundiaí</td>\n",
              "      <td>16585137.0</td>\n",
              "    </tr>\n",
              "    <tr>\n",
              "      <th>9</th>\n",
              "      <td>Santo André</td>\n",
              "      <td>14709603.0</td>\n",
              "    </tr>\n",
              "    <tr>\n",
              "      <th>10</th>\n",
              "      <td>Ribeirão Preto</td>\n",
              "      <td>14688064.0</td>\n",
              "    </tr>\n",
              "    <tr>\n",
              "      <th>11</th>\n",
              "      <td>Sorocaba</td>\n",
              "      <td>14182597.0</td>\n",
              "    </tr>\n",
              "    <tr>\n",
              "      <th>12</th>\n",
              "      <td>Diadema</td>\n",
              "      <td>9969819.0</td>\n",
              "    </tr>\n",
              "    <tr>\n",
              "      <th>13</th>\n",
              "      <td>Piracicaba</td>\n",
              "      <td>9601211.0</td>\n",
              "    </tr>\n",
              "    <tr>\n",
              "      <th>14</th>\n",
              "      <td>São Caetano do Sul</td>\n",
              "      <td>8920202.0</td>\n",
              "    </tr>\n",
              "  </tbody>\n",
              "</table>\n",
              "</div>\n",
              "      <button class=\"colab-df-convert\" onclick=\"convertToInteractive('df-e839876e-091f-471c-b682-c79f12554150')\"\n",
              "              title=\"Convert this dataframe to an interactive table.\"\n",
              "              style=\"display:none;\">\n",
              "        \n",
              "  <svg xmlns=\"http://www.w3.org/2000/svg\" height=\"24px\"viewBox=\"0 0 24 24\"\n",
              "       width=\"24px\">\n",
              "    <path d=\"M0 0h24v24H0V0z\" fill=\"none\"/>\n",
              "    <path d=\"M18.56 5.44l.94 2.06.94-2.06 2.06-.94-2.06-.94-.94-2.06-.94 2.06-2.06.94zm-11 1L8.5 8.5l.94-2.06 2.06-.94-2.06-.94L8.5 2.5l-.94 2.06-2.06.94zm10 10l.94 2.06.94-2.06 2.06-.94-2.06-.94-.94-2.06-.94 2.06-2.06.94z\"/><path d=\"M17.41 7.96l-1.37-1.37c-.4-.4-.92-.59-1.43-.59-.52 0-1.04.2-1.43.59L10.3 9.45l-7.72 7.72c-.78.78-.78 2.05 0 2.83L4 21.41c.39.39.9.59 1.41.59.51 0 1.02-.2 1.41-.59l7.78-7.78 2.81-2.81c.8-.78.8-2.07 0-2.86zM5.41 20L4 18.59l7.72-7.72 1.47 1.35L5.41 20z\"/>\n",
              "  </svg>\n",
              "      </button>\n",
              "      \n",
              "  <style>\n",
              "    .colab-df-container {\n",
              "      display:flex;\n",
              "      flex-wrap:wrap;\n",
              "      gap: 12px;\n",
              "    }\n",
              "\n",
              "    .colab-df-convert {\n",
              "      background-color: #E8F0FE;\n",
              "      border: none;\n",
              "      border-radius: 50%;\n",
              "      cursor: pointer;\n",
              "      display: none;\n",
              "      fill: #1967D2;\n",
              "      height: 32px;\n",
              "      padding: 0 0 0 0;\n",
              "      width: 32px;\n",
              "    }\n",
              "\n",
              "    .colab-df-convert:hover {\n",
              "      background-color: #E2EBFA;\n",
              "      box-shadow: 0px 1px 2px rgba(60, 64, 67, 0.3), 0px 1px 3px 1px rgba(60, 64, 67, 0.15);\n",
              "      fill: #174EA6;\n",
              "    }\n",
              "\n",
              "    [theme=dark] .colab-df-convert {\n",
              "      background-color: #3B4455;\n",
              "      fill: #D2E3FC;\n",
              "    }\n",
              "\n",
              "    [theme=dark] .colab-df-convert:hover {\n",
              "      background-color: #434B5C;\n",
              "      box-shadow: 0px 1px 3px 1px rgba(0, 0, 0, 0.15);\n",
              "      filter: drop-shadow(0px 1px 2px rgba(0, 0, 0, 0.3));\n",
              "      fill: #FFFFFF;\n",
              "    }\n",
              "  </style>\n",
              "\n",
              "      <script>\n",
              "        const buttonEl =\n",
              "          document.querySelector('#df-e839876e-091f-471c-b682-c79f12554150 button.colab-df-convert');\n",
              "        buttonEl.style.display =\n",
              "          google.colab.kernel.accessAllowed ? 'block' : 'none';\n",
              "\n",
              "        async function convertToInteractive(key) {\n",
              "          const element = document.querySelector('#df-e839876e-091f-471c-b682-c79f12554150');\n",
              "          const dataTable =\n",
              "            await google.colab.kernel.invokeFunction('convertToInteractive',\n",
              "                                                     [key], {});\n",
              "          if (!dataTable) return;\n",
              "\n",
              "          const docLinkHtml = 'Like what you see? Visit the ' +\n",
              "            '<a target=\"_blank\" href=https://colab.research.google.com/notebooks/data_table.ipynb>data table notebook</a>'\n",
              "            + ' to learn more about interactive tables.';\n",
              "          element.innerHTML = '';\n",
              "          dataTable['output_type'] = 'display_data';\n",
              "          await google.colab.output.renderOutput(dataTable, element);\n",
              "          const docLink = document.createElement('div');\n",
              "          docLink.innerHTML = docLinkHtml;\n",
              "          element.appendChild(docLink);\n",
              "        }\n",
              "      </script>\n",
              "    </div>\n",
              "  </div>\n",
              "  "
            ]
          },
          "metadata": {},
          "execution_count": 54
        }
      ]
    },
    {
      "cell_type": "markdown",
      "metadata": {
        "id": "Wg_la1wOewoB"
      },
      "source": [
        " - Qual é o PIB do estado de Santa Catarina?"
      ]
    },
    {
      "cell_type": "code",
      "metadata": {
        "id": "LwGqow5_ewoB",
        "outputId": "82857dd5-478b-42f9-bc9d-3a41ec311082",
        "colab": {
          "base_uri": "https://localhost:8080/"
        }
      },
      "source": [
        "# eu assumi que estava falando da média dos pib das cidades de santa catarina\n",
        "media_pib_sc = dados_br.query('uf == \"SANTA CATARINA\"')['pib'].mean()\n",
        "print('A média calculada do pib das cidades do estado de SC é: ',media_pib_sc)"
      ],
      "execution_count": 63,
      "outputs": [
        {
          "output_type": "stream",
          "name": "stdout",
          "text": [
            "A média calculada do pib das cidades do estado de SC é:  443024.7670715125\n"
          ]
        }
      ]
    },
    {
      "cell_type": "markdown",
      "metadata": {
        "id": "Yaw2gDukfApr"
      },
      "source": [
        " - Qual é o população da região sul?"
      ]
    },
    {
      "cell_type": "code",
      "metadata": {
        "id": "enEkNjFQfAps",
        "outputId": "e59ef3cb-deee-4325-c874-9bb41670e9a2",
        "colab": {
          "base_uri": "https://localhost:8080/"
        }
      },
      "source": [
        "pop_regiao_sul = dados_br.query('regiao == \"SUL\"')['populacao'].sum()\n",
        "print('A populacao da regiao sul é: ',pop_regiao_sul)"
      ],
      "execution_count": 64,
      "outputs": [
        {
          "output_type": "stream",
          "name": "stdout",
          "text": [
            "A populacao da regiao sul é:  27719118\n"
          ]
        }
      ]
    },
    {
      "cell_type": "markdown",
      "metadata": {
        "id": "9qOaKRS9fFu8"
      },
      "source": [
        " - Qual é o PIB per capito médio das cidades do Mato Grosso do Sul?"
      ]
    },
    {
      "cell_type": "code",
      "metadata": {
        "id": "gX8DVSfFfFu9",
        "outputId": "ee604860-5cc7-45d5-e1b7-bbe8453fb729",
        "colab": {
          "base_uri": "https://localhost:8080/"
        }
      },
      "source": [
        "pib_medio_mts = dados_br.query('uf == \"MATO GROSSO DO SUL\"')['pib'].mean()\n",
        "print('A média calculada do pib das cidades do estado do mato grosso do sul é: ',pib_medio_mts)"
      ],
      "execution_count": 65,
      "outputs": [
        {
          "output_type": "stream",
          "name": "stdout",
          "text": [
            "A média calculada do pib das cidades do estado do mato grosso do sul é:  466257.6111278045\n"
          ]
        }
      ]
    },
    {
      "cell_type": "markdown",
      "metadata": {
        "id": "lvf-VqaffS2D"
      },
      "source": [
        " - Qual é a população do Brasil?"
      ]
    },
    {
      "cell_type": "code",
      "metadata": {
        "id": "_nBsY6EcfS2E",
        "outputId": "6365dae3-de17-454f-f835-1236b83408cf",
        "colab": {
          "base_uri": "https://localhost:8080/"
        }
      },
      "source": [
        "pop_brasil = dados_br['populacao'].sum()\n",
        "print('A populacao do brasil é:',pop_brasil)"
      ],
      "execution_count": 67,
      "outputs": [
        {
          "output_type": "stream",
          "name": "stdout",
          "text": [
            "A populacao do brasil é: 191501418\n"
          ]
        }
      ]
    },
    {
      "cell_type": "markdown",
      "metadata": {
        "id": "hnTSARXpipkP"
      },
      "source": [
        "### **2.3. Visualização**"
      ]
    },
    {
      "cell_type": "markdown",
      "metadata": {
        "id": "7coMkY8xixFO"
      },
      "source": [
        "Utilize o dataframe `brasil_df` para gerar as seguintes visualizações."
      ]
    },
    {
      "cell_type": "markdown",
      "metadata": {
        "id": "SgvPvh4Vjctx"
      },
      "source": [
        " - Gere um gráfico de barras com as 10 cidades menos populosas do Brasil."
      ]
    },
    {
      "cell_type": "code",
      "metadata": {
        "id": "V8eM0uEUjcty",
        "outputId": "979caa54-c871-4407-bad9-f591d524218e",
        "colab": {
          "base_uri": "https://localhost:8080/",
          "height": 672
        }
      },
      "source": [
        "cidades10_menos_pop = dados_br[['cidade','populacao']].nsmallest(10,'populacao').reset_index(drop=True)\n",
        "cidades10_menos_pop.plot.bar(x='cidade',figsize=(11,6))"
      ],
      "execution_count": 82,
      "outputs": [
        {
          "output_type": "execute_result",
          "data": {
            "text/plain": [
              "<Axes: xlabel='cidade'>"
            ]
          },
          "metadata": {},
          "execution_count": 82
        },
        {
          "output_type": "display_data",
          "data": {
            "text/plain": [
              "<Figure size 1100x600 with 1 Axes>"
            ],
            "image/png": "[encoded data removed]"
          },
          "metadata": {}
        }
      ]
    },
    {
      "cell_type": "markdown",
      "metadata": {
        "id": "gsa3SrTjjrGV"
      },
      "source": [
        " - Gere um gráfico de pizza com a proporção da população do Brasil por região."
      ]
    },
    {
      "cell_type": "code",
      "metadata": {
        "id": "1dvqIAEHjrGV",
        "outputId": "7e6b307f-25d9-43b1-b571-2c9d95acf271",
        "colab": {
          "base_uri": "https://localhost:8080/",
          "height": 517
        }
      },
      "source": [
        "pop_regiao_br = dados_br[['regiao','populacao']].groupby('regiao').agg('sum')\n",
        "pop_regiao_br.plot.pie(subplots=True,figsize=(11,6))"
      ],
      "execution_count": 95,
      "outputs": [
        {
          "output_type": "execute_result",
          "data": {
            "text/plain": [
              "array([<Axes: ylabel='populacao'>], dtype=object)"
            ]
          },
          "metadata": {},
          "execution_count": 95
        },
        {
          "output_type": "display_data",
          "data": {
            "text/plain": [
              "<Figure size 1100x600 with 1 Axes>"
            ],
            "image/png": "[encoded data removed]"
          },
          "metadata": {}
        }
      ]
    }
  ]
}