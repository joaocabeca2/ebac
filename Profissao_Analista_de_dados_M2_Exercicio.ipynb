{
  "cells": [
    {
      "cell_type": "markdown",
      "metadata": {
        "id": "view-in-github",
        "colab_type": "text"
      },
      "source": [
        "<a href=\"https://colab.research.google.com/github/joaocabeca2/ebac/blob/main/Profissao_Analista_de_dados_M2_Exercicio.ipynb\" target=\"_parent\"><img src=\"https://colab.research.google.com/assets/colab-badge.svg\" alt=\"Open In Colab\"/></a>"
      ]
    },
    {
      "cell_type": "markdown",
      "metadata": {
        "id": "KJqp9AANOCtf"
      },
      "source": [
        "<img src=\"https://raw.githubusercontent.com/andre-marcos-perez/ebac-course-utils/main/media/logo/newebac_logo_black_half.png\" alt=\"ebac-logo\">\n",
        "\n",
        "---\n",
        "\n",
        "# **Módulo** | Python: Estruturas de Dados\n",
        "Caderno de **Exercícios**<br>\n",
        "Professor [André Perez](https://www.linkedin.com/in/andremarcosperez/)\n",
        "\n",
        "---"
      ]
    },
    {
      "cell_type": "markdown",
      "metadata": {
        "id": "d9jDtUbDOE1-"
      },
      "source": [
        "# **Tópicos**\n",
        "\n",
        "<ol type=\"1\">\n",
        "  <li>Listas;</li>\n",
        "  <li>Conjuntos;</li>\n",
        "  <li>Dicionários.</li>\n",
        "</ol>"
      ]
    },
    {
      "cell_type": "markdown",
      "metadata": {
        "id": "SmoHgt-lwkpD"
      },
      "source": [
        "---"
      ]
    },
    {
      "cell_type": "markdown",
      "metadata": {
        "id": "GABI6OW8OfQ2"
      },
      "source": [
        "# **Exercícios**"
      ]
    },
    {
      "cell_type": "markdown",
      "metadata": {
        "id": "muD1vxozykSC"
      },
      "source": [
        "## 1\\. Listas"
      ]
    },
    {
      "cell_type": "markdown",
      "metadata": {
        "id": "ahrFfCuBxJKs"
      },
      "source": [
        "Criei uma lista chamada `filmes` com o nome dos 10 primeiros filmes mais bem avaliados no site no [IMDB](https://www.imdb.com/chart/top/). Imprima o resultado."
      ]
    },
    {
      "cell_type": "code",
      "execution_count": null,
      "metadata": {
        "colab": {
          "base_uri": "https://localhost:8080/"
        },
        "id": "OgL6Hv3bzOHI",
        "outputId": "f95de296-6a32-422a-c1a3-93648489b2cb"
      },
      "outputs": [
        {
          "data": {
            "text/plain": [
              "['The Shawshank Redemption',\n",
              " 'The Godfather',\n",
              " ' The Dark Knight',\n",
              " 'The Godfather Part II',\n",
              " '12 Angry Men',\n",
              " \"Schindler's List\",\n",
              " ' The Lord of the Rings: The Return of the King',\n",
              " 'Pulp Fiction',\n",
              " ' The Lord of the Rings: The Fellowship of the Ring',\n",
              " 'The Good, the Bad and the Ugly']"
            ]
          },
          "execution_count": 26,
          "metadata": {},
          "output_type": "execute_result"
        }
      ],
      "source": [
        "filmes = ['The Shawshank Redemption','The Godfather',' The Dark Knight','The Godfather Part II',\n",
        "          '12 Angry Men','Schindler\\'s List',' The Lord of the Rings: The Return of the King',\n",
        "          'Pulp Fiction',' The Lord of the Rings: The Fellowship of the Ring','The Good, the Bad and the Ugly']\n",
        "filmes"
      ]
    },
    {
      "cell_type": "markdown",
      "metadata": {
        "id": "KI9zQRT2xa7m"
      },
      "source": [
        "Simule a movimentação do *ranking*. Utilize os métodos `insert` e `pop` para trocar a posição do primeiro e do segundo filme da lista. Imprima o resultado.\n",
        "\n"
      ]
    },
    {
      "cell_type": "code",
      "execution_count": null,
      "metadata": {
        "colab": {
          "base_uri": "https://localhost:8080/"
        },
        "id": "zX3mA3_GzrXH",
        "outputId": "04a13382-bcd4-422e-b435-e73f98c7051a"
      },
      "outputs": [
        {
          "data": {
            "text/plain": [
              "['The Godfather',\n",
              " 'The Shawshank Redemption',\n",
              " ' The Dark Knight',\n",
              " 'The Godfather Part II',\n",
              " '12 Angry Men',\n",
              " \"Schindler's List\",\n",
              " ' The Lord of the Rings: The Return of the King',\n",
              " 'Pulp Fiction',\n",
              " ' The Lord of the Rings: The Fellowship of the Ring',\n",
              " 'The Good, the Bad and the Ugly']"
            ]
          },
          "execution_count": 27,
          "metadata": {},
          "output_type": "execute_result"
        }
      ],
      "source": [
        "filmes.insert(0,filmes[1])\n",
        "filmes.pop(2)\n",
        "filmes"
      ]
    },
    {
      "cell_type": "markdown",
      "metadata": {
        "id": "zMN1Q3jdwoJm"
      },
      "source": [
        "---"
      ]
    },
    {
      "cell_type": "markdown",
      "metadata": {
        "id": "lxa5L6uF0ZJE"
      },
      "source": [
        "## 2\\. Conjuntos"
      ]
    },
    {
      "cell_type": "markdown",
      "metadata": {
        "id": "9JahS2Kj0d5u"
      },
      "source": [
        "Aconteceu um erro no seu *ranking*. Simule a duplicação dos três últimos filmes da lista. Imprima o resultado."
      ]
    },
    {
      "cell_type": "code",
      "execution_count": null,
      "metadata": {
        "colab": {
          "base_uri": "https://localhost:8080/"
        },
        "id": "BnjnLBNC6PGe",
        "outputId": "88aa0c2f-9859-4b63-d35b-0cbd0e7aff89"
      },
      "outputs": [
        {
          "data": {
            "text/plain": [
              "['The Godfather',\n",
              " 'The Shawshank Redemption',\n",
              " ' The Dark Knight',\n",
              " 'The Godfather Part II',\n",
              " '12 Angry Men',\n",
              " \"Schindler's List\",\n",
              " ' The Lord of the Rings: The Return of the King',\n",
              " 'Pulp Fiction',\n",
              " ' The Lord of the Rings: The Fellowship of the Ring',\n",
              " 'The Good, the Bad and the Ugly',\n",
              " 'Pulp Fiction',\n",
              " ' The Lord of the Rings: The Fellowship of the Ring',\n",
              " 'The Good, the Bad and the Ugly']"
            ]
          },
          "execution_count": 28,
          "metadata": {},
          "output_type": "execute_result"
        }
      ],
      "source": [
        "filmes = filmes + filmes[7:]\n",
        "filmes"
      ]
    },
    {
      "cell_type": "markdown",
      "metadata": {
        "id": "suxTfCJB6ZiX"
      },
      "source": [
        "Utiliza a conversão `set` e `list` para remover os valores duplicados. Imprima o resultado."
      ]
    },
    {
      "cell_type": "code",
      "execution_count": null,
      "metadata": {
        "colab": {
          "base_uri": "https://localhost:8080/"
        },
        "id": "ZvUGN-0n6joM",
        "outputId": "ce5f14e3-bedb-4f59-928c-8041ee9ae146"
      },
      "outputs": [
        {
          "data": {
            "text/plain": [
              "['The Godfather',\n",
              " 'The Shawshank Redemption',\n",
              " ' The Dark Knight',\n",
              " 'The Godfather Part II',\n",
              " '12 Angry Men',\n",
              " \"Schindler's List\",\n",
              " ' The Lord of the Rings: The Return of the King',\n",
              " 'Pulp Fiction',\n",
              " ' The Lord of the Rings: The Fellowship of the Ring',\n",
              " 'The Good, the Bad and the Ugly',\n",
              " 'Pulp Fiction',\n",
              " ' The Lord of the Rings: The Fellowship of the Ring',\n",
              " 'The Good, the Bad and the Ugly']"
            ]
          },
          "execution_count": 31,
          "metadata": {},
          "output_type": "execute_result"
        }
      ],
      "source": [
        "set(filmes)"
      ]
    },
    {
      "cell_type": "markdown",
      "metadata": {
        "id": "ShkK35eQ6pAM"
      },
      "source": [
        "---"
      ]
    },
    {
      "cell_type": "markdown",
      "metadata": {
        "id": "EL_FzmxL6rTv"
      },
      "source": [
        "## 3\\. Dicionários"
      ]
    },
    {
      "cell_type": "markdown",
      "metadata": {
        "id": "i8l0gFqRCpfT"
      },
      "source": [
        "Repita os exercícios da parte 1 (listas). Os elementos da lista `filmes` devem ser dicionários no seguinte formato: `{'nome': <nome-do-filme>, 'ano': <ano do filme>, 'sinopse': <sinopse do filme>}`."
      ]
    },
    {
      "cell_type": "code",
      "execution_count": null,
      "metadata": {
        "colab": {
          "background_save": true,
          "base_uri": "https://localhost:8080/"
        },
        "id": "tu6MSFwGDnHv",
        "outputId": "adf8fb35-567e-4833-e80c-bbe1c6987662"
      },
      "outputs": [
        {
          "data": {
            "text/plain": [
              "{' The Lord of the Rings: The Return of the King': {'ano': None,\n",
              "  'sinopse': None},\n",
              " ' The Dark Knight': {'ano': None, 'sinopse': None},\n",
              " 'The Shawshank Redemption': {'ano': None, 'sinopse': None},\n",
              " ' The Lord of the Rings: The Fellowship of the Ring': {'ano': None,\n",
              "  'sinopse': None},\n",
              " 'The Godfather': {'ano': None, 'sinopse': None},\n",
              " 'Pulp Fiction': {'ano': None, 'sinopse': None},\n",
              " '12 Angry Men': {'ano': None, 'sinopse': None},\n",
              " 'The Godfather Part II': {'ano': None, 'sinopse': None},\n",
              " \"Schindler's List\": {'ano': None, 'sinopse': None},\n",
              " 'The Good, the Bad and the Ugly': {'ano': None, 'sinopse': None}}"
            ]
          },
          "execution_count": 33,
          "metadata": {},
          "output_type": "execute_result"
        }
      ],
      "source": [
        "dic = {}\n",
        "for filme in set(filmes):\n",
        "    dic[filme] = {'ano': None,'sinopse':None}\n",
        "dic\n"
      ]
    }
  ],
  "metadata": {
    "colab": {
      "toc_visible": true,
      "provenance": [],
      "include_colab_link": true
    },
    "kernelspec": {
      "display_name": "Python 3",
      "name": "python3"
    }
  },
  "nbformat": 4,
  "nbformat_minor": 0
}